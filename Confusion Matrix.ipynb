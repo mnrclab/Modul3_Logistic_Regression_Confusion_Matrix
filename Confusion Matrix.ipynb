{
 "cells": [
  {
   "cell_type": "markdown",
   "metadata": {},
   "source": [
    "# **Confusion Matrix**\n",
    "\n",
    "Mengukur kinerja suatu model yang telah kita buat merupakan langkah penting dalam machine learning sehingga dapat menjadi pertimbangan untuk memilih model “terbaik”. Salah satu teknik yang dapat digunakan untuk mengukur kinerja suatu model khusunya kasus klasifikasi (supervised learning) pada machine learning adalah confusion matrix."
   ]
  },
  {
   "cell_type": "markdown",
   "metadata": {},
   "source": [
    "Confusion matrix juga sering disebut error matrix. Pada dasarnya confusion matrix memberikan informasi perbandingan hasil klasifikasi yang dilakukan oleh sistem (model) dengan hasil klasifikasi sebenarnya. Confusion matrix berbentuk tabel matriks yang menggambarkan kinerja model klasifikasi pada serangkaian data uji yang nilai sebenarnya diketahui. Gambar dibawah ini merupakan confusion matrix dengan 4 kombinasi nilai prediksi dan nilai aktual yang berbeda. Perhatikan gambar dibawah ini:\n",
    "\n",
    "<img src = 'g_img.png' height=600 width=600>"
   ]
  },
  {
   "cell_type": "markdown",
   "metadata": {},
   "source": [
    "#### *    **True Positive (TP)**\n",
    "    Merupakan data positif yang diprediksi benar. Contohnya, pasien menderita kanker (class 1) dan dari model yang dibuat memprediksi pasien tersebut menderita kanker (class 1).\n",
    "#### *    **True Negative (TN)**\n",
    "    Merupakan data negatif yang diprediksi benar. Contohnya, pasien tidak menderita kanker (class 2) dan dari model yang dibuat memprediksi pasien tersebut tidak menderita kanker (class 2).\n",
    "#### *    **False Positive (FP) — Type I Error**\n",
    "    Merupakan data negatif namun diprediksi sebagai data positif. Contohnya, pasien tidak menderita kanker (class 2) tetapi dari model yang telah memprediksi pasien tersebut menderita kanker (class 1).\n",
    "#### *    **False Negative (FN) — Type II Error**\n",
    "    Merupakan data positif namun diprediksi sebagai data negatif. Contohnya, pasien menderita kanker (class 1) tetapi dari model yang dibuat memprediksi pasien tersebut tidak menderita kanker (class 2)."
   ]
  },
  {
   "cell_type": "markdown",
   "metadata": {},
   "source": [
    "Ada cara yang lebih mudah untuk mengingatnya, yaitu:\n",
    "\n",
    "-    Jika diawali dengan **True** maka prediksinya adalah benar, entah diprediksi terjadi atau tidak terjadi.\n",
    "-    Jika diawali dengan **False** maka prediksinya adalah salah.\n",
    "-    **Positif** dan **negatif** merupakan hasil prediksi dari model."
   ]
  },
  {
   "cell_type": "markdown",
   "metadata": {},
   "source": [
    "Pada beberapa kasus “Type II Error” lebih berbahaya, kita dapat menghubungkan pernyataan itu dengan contoh prediksi kanker diatas. Jika pasien tidak menderita kanker tetapi diprediksi menderita kanker (FP), maka pada diagnosa selanjutnya pasien tersebut dapat mengetahui keadaan sebenarnya bahwa pasien tersebut benar tidak menderita kanker. \n",
    "\n",
    "Tetapi jika ada pasien yang sebenarnya menderita kanker tetapi diprediksi tidak menderita kanker (FN), maka pasien tersebut akan mengetahui keadaan sebenarnya dengan sangat terlambat dan pasien tersebut tidak segera mengambil tindakan pencegahan medis untuk kanker itu. Sehingga dapat menyebabkan kondisi pasien yang semakin memburuk setiap harinya bahkan kematian. Jadi dapat dikatakan bahwa “Type II Error” lebih berbahaya."
   ]
  },
  {
   "cell_type": "markdown",
   "metadata": {},
   "source": [
    "## **Accuracy**\n",
    "\n",
    "Accuracy menggambarkan seberapa akurat model dapat mengklasifikasikan dengan benar. Maka, accuracy merupakan rasio prediksi benar (positif dan negatif) dengan keseluruhan data. Dengan kata lain, accuracy merupakan tingkat kedekatan nilai prediksi dengan nilai aktual (sebenarnya). Nilai accuracy dapat diperoleh dengan persamaan (1).\n",
    "\n",
    "<img src = 'h_img.png'  height=600 width=600>\n",
    "<img src = 'i_img.png'>\n",
    "\n",
    "Contoh, nilai accuracy dapat menjawab pertanyaan “Berapa persen pasien yang benar diprediksi menderita kanker maupun yang tidak menderita kanker dari kesuluruhan pasien?”\n",
    "\n",
    "<img src = 'o_img.png'>"
   ]
  },
  {
   "cell_type": "markdown",
   "metadata": {},
   "source": [
    "## **Precision (Positive/Negative)**\n",
    "\n",
    "Precision menggambarkan tingkat keakuratan antara data yang diminta dengan hasil prediksi yang diberikan oleh model. Maka, precision merupakan rasio prediksi benar positif dibandingkan dengan keseluruhan hasil yang diprediksi positf. Dari semua kelas positif yang telah di prediksi dengan benar, berapa banyak data yang benar-benar positif. Nilai precision dapat diperoleh dengan persamaan (2).\n",
    "\n",
    "<img src = 'j_img.png'  height=600 width=600>\n",
    "<img src = 'k_img.png'>\n",
    "\n",
    "Contoh, nilai precision dapat menjawab pertanyaan “Berapa persen pasien yang benar menderita kanker dari keseluruhan pasien yang diprediksi menderita kanker?”\n",
    "\n",
    "<img src = 'p_img.png'>"
   ]
  },
  {
   "cell_type": "markdown",
   "metadata": {},
   "source": [
    "## **Recall atau Sensitivity (Positive/Negative)**\n",
    "\n",
    "Recall menggambarkan keberhasilan model dalam menemukan kembali sebuah informasi. Maka, recall merupakan rasio prediksi benar positif dibandingkan dengan keseluruhan data yang benar positif. Nilai recall dapat diperoleh dengan persamaan (3).\n",
    "\n",
    "<img src = 'l_img.png'  height=600 width=600>\n",
    "<img src = 'm_img.png'>\n",
    "\n",
    "Contoh, nilai recall dapat menjawab pertanyaan “Berapa persen pasien yang diprediksi kanker dibandingkan keseluruhan pasien yang sebenarnya menderita kanker”.\n",
    "\n",
    "<img src = 'q_img.png'>"
   ]
  },
  {
   "cell_type": "markdown",
   "metadata": {},
   "source": [
    "## **F1 Score**\n",
    "\n",
    "``F1 Score merupakan perbandingan rata-rata presisi dan recall yang dibobotkan``\n",
    "\n",
    "Dalam beberapa situasi, kita mungkin tahu bahwa kita ingin memaksimalkan recall atau precision dengan mengorbankan metric lainnya. Misalnya, dalam skrining penyakit awal pasien untuk pemeriksaan lanjutan, kita mungkin menginginkan recall kembali mendekati 1.0 (kita ingin menemukan semua pasien yang benar-benar memiliki penyakit) dan kita dapat menerima precision rendah jika biaya follow-up pemeriksaan tidak signifikan. Namun, dalam kasus dimana kita ingin menemukan perpaduan precision dan recall yang optimal, kita dapat menggabungkan dua metric tersebut dengan menggunakan apa yang disebut F1 Score.\n",
    "\n",
    "F1 Score adalah rata-rata dari precision dan recall yang memperhitungkan kedua metrik tersebut dalam persamaan berikut: \n",
    "\n",
    "## F1 Score = 2 * (Recall*Precission) / (Recall + Precission)\n",
    "\n",
    "Kita menggunakan harmonic mean (bukan rata-rata sederhana karena akan menghukum nilai ekstrim). Pengelompokan dengan precision 1.0 dan recall 0.0 memiliki rata-rata 0.5 sederhana namun F1 Score bernilai 0. F1 Score memberikan bobot yang sama untuk kedua ukuran tersebut dan merupakan contoh spesifik dari metode metric Fβ dimana β dapat disesuaikan dengan memberi bobot lebih pada recall atau precision. (Ada metric lain untuk menggabungkan precision dan recall, seperti Geometris Mean dari recall dan precision, namun F1 Score adalah yang paling umum digunakan) Jika kita ingin membuat model klasifikasi dengan keseimbangan recall dan precision secara optimal, maka kita mencoba memaksimalkan F1 Score.\n",
    "\n",
    "<hr>"
   ]
  },
  {
   "cell_type": "markdown",
   "metadata": {},
   "source": [
    "## __Summary__\n",
    "\n",
    "### Empat output dari Binary Classification\n",
    "*        __True positives__: data points diberi label positif yang memang sebenarnya bernilai positif\n",
    "*        __False positives__: data points diberi label positif yang sebenarnya bernilai negatif\n",
    "*        __True negatives__: data points diberi label negatif yang memang sebenarnya bernilai negatif\n",
    "*        __False negatives__: data points diberi label negatif yang sebenarnya bernilai positif\n",
    "\n",
    "###    Matric Recall and Precision\n",
    "*        __Recall__: nilai dari sebuah model klasifikasi untuk mengidentifikasi semua instance yang relevan\n",
    "*        __Precision__: nilai dari sebuah model klasifikasi untuk mengembalikan hanya instance yang relevan\n",
    "*        __F1 Score__: Metric yang mengkombinasikan recall and precision menggunakan harmonic mean\n",
    "\n",
    "### Visualisasi Recall and Precision Teknik\n",
    "*        __Confusion matrix__: menunjukan label actual dan predicted dari masalah klasifikasi\n",
    "*        __Receiver operating characteristic (ROC) curve__: kurva tentang true positive rate (TPR) vs the false positive rate (FPR) sebagai fungsi threshold dari sebuah model untuk mengklasifikasikan kelas positif\n",
    "*        __Area under the curve (AUC)__: Matric untuk mengkalkulasi perfoma secara keseluruhan dari model klasifikasi berdasarkan area di bawah kurva ROC\n",
    "\n",
    "<hr>"
   ]
  },
  {
   "cell_type": "code",
   "execution_count": 1,
   "metadata": {},
   "outputs": [],
   "source": [
    "import pandas as pd\n",
    "import numpy as np\n",
    "import matplotlib.pyplot as plt\n",
    "from sklearn.linear_model import LogisticRegression\n",
    "import warnings\n",
    "warnings.filterwarnings('ignore')"
   ]
  },
  {
   "cell_type": "code",
   "execution_count": 2,
   "metadata": {},
   "outputs": [
    {
     "data": {
      "text/html": [
       "<div>\n",
       "<style scoped>\n",
       "    .dataframe tbody tr th:only-of-type {\n",
       "        vertical-align: middle;\n",
       "    }\n",
       "\n",
       "    .dataframe tbody tr th {\n",
       "        vertical-align: top;\n",
       "    }\n",
       "\n",
       "    .dataframe thead th {\n",
       "        text-align: right;\n",
       "    }\n",
       "</style>\n",
       "<table border=\"1\" class=\"dataframe\">\n",
       "  <thead>\n",
       "    <tr style=\"text-align: right;\">\n",
       "      <th></th>\n",
       "      <th>x</th>\n",
       "      <th>y</th>\n",
       "    </tr>\n",
       "  </thead>\n",
       "  <tbody>\n",
       "    <tr>\n",
       "      <th>0</th>\n",
       "      <td>2</td>\n",
       "      <td>Sehat</td>\n",
       "    </tr>\n",
       "    <tr>\n",
       "      <th>1</th>\n",
       "      <td>3</td>\n",
       "      <td>Sehat</td>\n",
       "    </tr>\n",
       "    <tr>\n",
       "      <th>2</th>\n",
       "      <td>5</td>\n",
       "      <td>Sehat</td>\n",
       "    </tr>\n",
       "    <tr>\n",
       "      <th>3</th>\n",
       "      <td>2</td>\n",
       "      <td>Sehat</td>\n",
       "    </tr>\n",
       "    <tr>\n",
       "      <th>4</th>\n",
       "      <td>1</td>\n",
       "      <td>Sehat</td>\n",
       "    </tr>\n",
       "    <tr>\n",
       "      <th>5</th>\n",
       "      <td>3</td>\n",
       "      <td>Sehat</td>\n",
       "    </tr>\n",
       "    <tr>\n",
       "      <th>6</th>\n",
       "      <td>5</td>\n",
       "      <td>Terinfeksi</td>\n",
       "    </tr>\n",
       "    <tr>\n",
       "      <th>7</th>\n",
       "      <td>4</td>\n",
       "      <td>Sehat</td>\n",
       "    </tr>\n",
       "    <tr>\n",
       "      <th>8</th>\n",
       "      <td>2</td>\n",
       "      <td>Terinfeksi</td>\n",
       "    </tr>\n",
       "    <tr>\n",
       "      <th>9</th>\n",
       "      <td>1</td>\n",
       "      <td>Terinfeksi</td>\n",
       "    </tr>\n",
       "    <tr>\n",
       "      <th>10</th>\n",
       "      <td>4</td>\n",
       "      <td>Sehat</td>\n",
       "    </tr>\n",
       "    <tr>\n",
       "      <th>11</th>\n",
       "      <td>6</td>\n",
       "      <td>Sehat</td>\n",
       "    </tr>\n",
       "    <tr>\n",
       "      <th>12</th>\n",
       "      <td>5</td>\n",
       "      <td>Terinfeksi</td>\n",
       "    </tr>\n",
       "    <tr>\n",
       "      <th>13</th>\n",
       "      <td>3</td>\n",
       "      <td>Sehat</td>\n",
       "    </tr>\n",
       "    <tr>\n",
       "      <th>14</th>\n",
       "      <td>2</td>\n",
       "      <td>Terinfeksi</td>\n",
       "    </tr>\n",
       "    <tr>\n",
       "      <th>15</th>\n",
       "      <td>6</td>\n",
       "      <td>Terinfeksi</td>\n",
       "    </tr>\n",
       "    <tr>\n",
       "      <th>16</th>\n",
       "      <td>7</td>\n",
       "      <td>Terinfeksi</td>\n",
       "    </tr>\n",
       "    <tr>\n",
       "      <th>17</th>\n",
       "      <td>8</td>\n",
       "      <td>Terinfeksi</td>\n",
       "    </tr>\n",
       "    <tr>\n",
       "      <th>18</th>\n",
       "      <td>9</td>\n",
       "      <td>Terinfeksi</td>\n",
       "    </tr>\n",
       "    <tr>\n",
       "      <th>19</th>\n",
       "      <td>3</td>\n",
       "      <td>Terinfeksi</td>\n",
       "    </tr>\n",
       "  </tbody>\n",
       "</table>\n",
       "</div>"
      ],
      "text/plain": [
       "    x           y\n",
       "0   2       Sehat\n",
       "1   3       Sehat\n",
       "2   5       Sehat\n",
       "3   2       Sehat\n",
       "4   1       Sehat\n",
       "5   3       Sehat\n",
       "6   5  Terinfeksi\n",
       "7   4       Sehat\n",
       "8   2  Terinfeksi\n",
       "9   1  Terinfeksi\n",
       "10  4       Sehat\n",
       "11  6       Sehat\n",
       "12  5  Terinfeksi\n",
       "13  3       Sehat\n",
       "14  2  Terinfeksi\n",
       "15  6  Terinfeksi\n",
       "16  7  Terinfeksi\n",
       "17  8  Terinfeksi\n",
       "18  9  Terinfeksi\n",
       "19  3  Terinfeksi"
      ]
     },
     "execution_count": 2,
     "metadata": {},
     "output_type": "execute_result"
    }
   ],
   "source": [
    "data = {\n",
    "    'x': np.array([\n",
    "        2, 3, 5, 2, 1,\n",
    "        3, 5, 4, 2, 1,\n",
    "        4, 6, 5, 3, 2,\n",
    "        6, 7, 8, 9, 3\n",
    "    ]),\n",
    "    'y': np.array([\n",
    "        'Sehat','Sehat','Sehat','Sehat','Sehat',\n",
    "        'Sehat','Terinfeksi','Sehat','Terinfeksi','Terinfeksi',\n",
    "        'Sehat','Sehat','Terinfeksi','Sehat','Terinfeksi',\n",
    "        'Terinfeksi','Terinfeksi','Terinfeksi','Terinfeksi','Terinfeksi'\n",
    "    ])}\n",
    "\n",
    "df = pd.DataFrame(data)\n",
    "df\n",
    "\n",
    "# X = lama bekerja\n",
    "# y = Status terinfeksi atau tidak"
   ]
  },
  {
   "cell_type": "code",
   "execution_count": 3,
   "metadata": {},
   "outputs": [
    {
     "name": "stdout",
     "output_type": "stream",
     "text": [
      "['Sehat', 'Sehat', 'Sehat', 'Sehat', 'Sehat', 'Sehat', 'Terinfeksi', 'Sehat', 'Terinfeksi', 'Terinfeksi', 'Sehat', 'Sehat', 'Terinfeksi', 'Sehat', 'Terinfeksi', 'Terinfeksi', 'Terinfeksi', 'Terinfeksi', 'Terinfeksi', 'Terinfeksi']\n",
      "['Sehat', 'Sehat', 'Terinfeksi', 'Sehat', 'Sehat', 'Sehat', 'Terinfeksi', 'Terinfeksi', 'Sehat', 'Sehat', 'Terinfeksi', 'Terinfeksi', 'Terinfeksi', 'Sehat', 'Sehat', 'Terinfeksi', 'Terinfeksi', 'Terinfeksi', 'Terinfeksi', 'Sehat']\n"
     ]
    },
    {
     "data": {
      "text/html": [
       "<div>\n",
       "<style scoped>\n",
       "    .dataframe tbody tr th:only-of-type {\n",
       "        vertical-align: middle;\n",
       "    }\n",
       "\n",
       "    .dataframe tbody tr th {\n",
       "        vertical-align: top;\n",
       "    }\n",
       "\n",
       "    .dataframe thead th {\n",
       "        text-align: right;\n",
       "    }\n",
       "</style>\n",
       "<table border=\"1\" class=\"dataframe\">\n",
       "  <thead>\n",
       "    <tr style=\"text-align: right;\">\n",
       "      <th></th>\n",
       "      <th>x</th>\n",
       "      <th>y</th>\n",
       "      <th>yp</th>\n",
       "    </tr>\n",
       "  </thead>\n",
       "  <tbody>\n",
       "    <tr>\n",
       "      <th>0</th>\n",
       "      <td>2</td>\n",
       "      <td>Sehat</td>\n",
       "      <td>Sehat</td>\n",
       "    </tr>\n",
       "    <tr>\n",
       "      <th>1</th>\n",
       "      <td>3</td>\n",
       "      <td>Sehat</td>\n",
       "      <td>Sehat</td>\n",
       "    </tr>\n",
       "    <tr>\n",
       "      <th>2</th>\n",
       "      <td>5</td>\n",
       "      <td>Sehat</td>\n",
       "      <td>Terinfeksi</td>\n",
       "    </tr>\n",
       "    <tr>\n",
       "      <th>3</th>\n",
       "      <td>2</td>\n",
       "      <td>Sehat</td>\n",
       "      <td>Sehat</td>\n",
       "    </tr>\n",
       "    <tr>\n",
       "      <th>4</th>\n",
       "      <td>1</td>\n",
       "      <td>Sehat</td>\n",
       "      <td>Sehat</td>\n",
       "    </tr>\n",
       "    <tr>\n",
       "      <th>5</th>\n",
       "      <td>3</td>\n",
       "      <td>Sehat</td>\n",
       "      <td>Sehat</td>\n",
       "    </tr>\n",
       "    <tr>\n",
       "      <th>6</th>\n",
       "      <td>5</td>\n",
       "      <td>Terinfeksi</td>\n",
       "      <td>Terinfeksi</td>\n",
       "    </tr>\n",
       "    <tr>\n",
       "      <th>7</th>\n",
       "      <td>4</td>\n",
       "      <td>Sehat</td>\n",
       "      <td>Terinfeksi</td>\n",
       "    </tr>\n",
       "    <tr>\n",
       "      <th>8</th>\n",
       "      <td>2</td>\n",
       "      <td>Terinfeksi</td>\n",
       "      <td>Sehat</td>\n",
       "    </tr>\n",
       "    <tr>\n",
       "      <th>9</th>\n",
       "      <td>1</td>\n",
       "      <td>Terinfeksi</td>\n",
       "      <td>Sehat</td>\n",
       "    </tr>\n",
       "    <tr>\n",
       "      <th>10</th>\n",
       "      <td>4</td>\n",
       "      <td>Sehat</td>\n",
       "      <td>Terinfeksi</td>\n",
       "    </tr>\n",
       "    <tr>\n",
       "      <th>11</th>\n",
       "      <td>6</td>\n",
       "      <td>Sehat</td>\n",
       "      <td>Terinfeksi</td>\n",
       "    </tr>\n",
       "    <tr>\n",
       "      <th>12</th>\n",
       "      <td>5</td>\n",
       "      <td>Terinfeksi</td>\n",
       "      <td>Terinfeksi</td>\n",
       "    </tr>\n",
       "    <tr>\n",
       "      <th>13</th>\n",
       "      <td>3</td>\n",
       "      <td>Sehat</td>\n",
       "      <td>Sehat</td>\n",
       "    </tr>\n",
       "    <tr>\n",
       "      <th>14</th>\n",
       "      <td>2</td>\n",
       "      <td>Terinfeksi</td>\n",
       "      <td>Sehat</td>\n",
       "    </tr>\n",
       "    <tr>\n",
       "      <th>15</th>\n",
       "      <td>6</td>\n",
       "      <td>Terinfeksi</td>\n",
       "      <td>Terinfeksi</td>\n",
       "    </tr>\n",
       "    <tr>\n",
       "      <th>16</th>\n",
       "      <td>7</td>\n",
       "      <td>Terinfeksi</td>\n",
       "      <td>Terinfeksi</td>\n",
       "    </tr>\n",
       "    <tr>\n",
       "      <th>17</th>\n",
       "      <td>8</td>\n",
       "      <td>Terinfeksi</td>\n",
       "      <td>Terinfeksi</td>\n",
       "    </tr>\n",
       "    <tr>\n",
       "      <th>18</th>\n",
       "      <td>9</td>\n",
       "      <td>Terinfeksi</td>\n",
       "      <td>Terinfeksi</td>\n",
       "    </tr>\n",
       "    <tr>\n",
       "      <th>19</th>\n",
       "      <td>3</td>\n",
       "      <td>Terinfeksi</td>\n",
       "      <td>Sehat</td>\n",
       "    </tr>\n",
       "  </tbody>\n",
       "</table>\n",
       "</div>"
      ],
      "text/plain": [
       "    x           y          yp\n",
       "0   2       Sehat       Sehat\n",
       "1   3       Sehat       Sehat\n",
       "2   5       Sehat  Terinfeksi\n",
       "3   2       Sehat       Sehat\n",
       "4   1       Sehat       Sehat\n",
       "5   3       Sehat       Sehat\n",
       "6   5  Terinfeksi  Terinfeksi\n",
       "7   4       Sehat  Terinfeksi\n",
       "8   2  Terinfeksi       Sehat\n",
       "9   1  Terinfeksi       Sehat\n",
       "10  4       Sehat  Terinfeksi\n",
       "11  6       Sehat  Terinfeksi\n",
       "12  5  Terinfeksi  Terinfeksi\n",
       "13  3       Sehat       Sehat\n",
       "14  2  Terinfeksi       Sehat\n",
       "15  6  Terinfeksi  Terinfeksi\n",
       "16  7  Terinfeksi  Terinfeksi\n",
       "17  8  Terinfeksi  Terinfeksi\n",
       "18  9  Terinfeksi  Terinfeksi\n",
       "19  3  Terinfeksi       Sehat"
      ]
     },
     "execution_count": 3,
     "metadata": {},
     "output_type": "execute_result"
    }
   ],
   "source": [
    "model = LogisticRegression(solver='liblinear')\n",
    "model.fit(df[['x']], df['y'])\n",
    "y = df['y'].tolist()\n",
    "yp = model.predict(df[['x']]).tolist()\n",
    "df['yp'] = yp\n",
    "print(y)\n",
    "print(yp)\n",
    "\n",
    "df"
   ]
  },
  {
   "cell_type": "markdown",
   "metadata": {},
   "source": [
    "- TEBAKAN => POSITIF ATAU NEGATIF => POSITIF\n",
    "- KITA NILAI BENER ATAU SALAH => POSITIF\n",
    "- KALAU COCOK => BENER - MENEBAK POSITIF"
   ]
  },
  {
   "cell_type": "markdown",
   "metadata": {},
   "source": [
    "- | prediksi Sehat | prediksi Terinfeksi\n",
    "- | - | -\n",
    "__aktual Sehat__ | TN | FP\n",
    "__aktual Terinfeksi__ | FN | TP\n",
    "\n",
    "\n",
    "Sehat Negatif (0), Terinfeksi Positif (1)"
   ]
  },
  {
   "cell_type": "markdown",
   "metadata": {},
   "source": [
    "### Menghitung TN, FN, FP, TP"
   ]
  },
  {
   "cell_type": "code",
   "execution_count": 4,
   "metadata": {},
   "outputs": [
    {
     "name": "stdout",
     "output_type": "stream",
     "text": [
      "6 6 4 4\n"
     ]
    }
   ],
   "source": [
    "tp = len(df[df['y'] == 'Terinfeksi'][df['yp'] == 'Terinfeksi'])\n",
    "tn = len(df[df['y'] == 'Sehat'][df['yp'] == 'Sehat'])\n",
    "fp = len(df[df['y'] == 'Sehat'][df['yp'] == 'Terinfeksi'])\n",
    "fn = len(df[df['y'] == 'Terinfeksi'][df['yp'] == 'Sehat'])\n",
    "\n",
    "print(tp, tn, fp, fn)"
   ]
  },
  {
   "cell_type": "code",
   "execution_count": 5,
   "metadata": {},
   "outputs": [
    {
     "name": "stdout",
     "output_type": "stream",
     "text": [
      "Akurasi: 0.6\n",
      "Error Rate: 0.4\n",
      "Recall(+): 0.6\n",
      "FP Rate: 0.4\n",
      "Recall(-): 0.6\n",
      "FN Rate: 0.4\n",
      "Precision(+): 0.6\n",
      "Precision(-) 0.6\n",
      "F1 Score: 0.6\n"
     ]
    }
   ],
   "source": [
    "print('Akurasi:', (tp + tn)/ (tp + tn + fp + fn))\n",
    "print('Error Rate:', (fp + fn) / (tp + tn + fp + fn))\n",
    "\n",
    "print('Recall(+):', tp / (tp + fn))\n",
    "print('FP Rate:', fp / (fp + tn))\n",
    "\n",
    "print('Recall(-):', tn/ (fp + tn))\n",
    "print('FN Rate:', fn / (tp + fn))\n",
    "\n",
    "print('Precision(+):', tp / (tp + fp))\n",
    "print('Precision(-)', tn / (tn + fn))\n",
    "\n",
    "prc = tp / (tp + fp)\n",
    "rcl = tp / (tp + fn)\n",
    "print('F1 Score:', 2 * ((prc * rcl) / (prc + rcl)))"
   ]
  },
  {
   "cell_type": "code",
   "execution_count": 6,
   "metadata": {},
   "outputs": [
    {
     "name": "stdout",
     "output_type": "stream",
     "text": [
      "[[6 4]\n",
      " [4 6]]\n",
      "              precision    recall  f1-score   support\n",
      "\n",
      "       Sehat       0.60      0.60      0.60        10\n",
      "  Terinfeksi       0.60      0.60      0.60        10\n",
      "\n",
      "    accuracy                           0.60        20\n",
      "   macro avg       0.60      0.60      0.60        20\n",
      "weighted avg       0.60      0.60      0.60        20\n",
      "\n"
     ]
    }
   ],
   "source": [
    "from sklearn.metrics import classification_report, confusion_matrix\n",
    "print(confusion_matrix(df['y'], df['yp']))\n",
    "print(classification_report(y, yp))"
   ]
  },
  {
   "cell_type": "markdown",
   "metadata": {},
   "source": [
    "#### **Accuracy**"
   ]
  },
  {
   "cell_type": "code",
   "execution_count": 7,
   "metadata": {},
   "outputs": [
    {
     "name": "stdout",
     "output_type": "stream",
     "text": [
      "model.score: 0.6\n",
      "accuracy_score: 0.6\n",
      "Error Rate: 0.4\n"
     ]
    }
   ],
   "source": [
    "print('model.score:', model.score(df[['x']], df['y']))\n",
    "\n",
    "from sklearn.metrics import accuracy_score\n",
    "print('accuracy_score:', accuracy_score(df['y'], df['yp']))\n",
    "\n",
    "print('Error Rate:', 1 - accuracy_score(df['y'], df['yp']))"
   ]
  },
  {
   "cell_type": "markdown",
   "metadata": {},
   "source": [
    "#### **Recall**"
   ]
  },
  {
   "cell_type": "code",
   "execution_count": 8,
   "metadata": {},
   "outputs": [
    {
     "name": "stdout",
     "output_type": "stream",
     "text": [
      "Recall (+) 0.6\n",
      "Recall (-) 0.6\n"
     ]
    }
   ],
   "source": [
    "from sklearn.metrics import recall_score\n",
    "\n",
    "print('Recall (+)', recall_score(df['y'], df['yp'], pos_label='Terinfeksi'))\n",
    "\n",
    "print('Recall (-)', recall_score(df['y'], df['yp'], pos_label='Sehat'))"
   ]
  },
  {
   "cell_type": "markdown",
   "metadata": {},
   "source": [
    "#### **Precision**"
   ]
  },
  {
   "cell_type": "code",
   "execution_count": 9,
   "metadata": {},
   "outputs": [
    {
     "name": "stdout",
     "output_type": "stream",
     "text": [
      "Precision (+): 0.6\n",
      "Precision (-): 0.6\n"
     ]
    }
   ],
   "source": [
    "from sklearn.metrics import precision_score\n",
    "\n",
    "print('Precision (+):', precision_score(df['y'], df['yp'], pos_label='Terinfeksi'))\n",
    "print('Precision (-):', precision_score(df['y'], df['yp'], pos_label='Sehat'))"
   ]
  },
  {
   "cell_type": "markdown",
   "metadata": {},
   "source": [
    "#### **Balanced Accuracy**"
   ]
  },
  {
   "cell_type": "code",
   "execution_count": 10,
   "metadata": {},
   "outputs": [
    {
     "name": "stdout",
     "output_type": "stream",
     "text": [
      "bAcc : 0.6\n",
      "bAcc : 0.6\n"
     ]
    }
   ],
   "source": [
    "# formula = (recall(+) + recall(-)) / 2\n",
    "rclP = tp / (tp + fn)\n",
    "rclN = tn / (fp + tn)\n",
    "bAcc = (rclP + rclN) / 2\n",
    "print('bAcc :', bAcc)\n",
    "\n",
    "from sklearn.metrics import balanced_accuracy_score\n",
    "print('bAcc :', balanced_accuracy_score(df['y'], df['yp']))"
   ]
  },
  {
   "cell_type": "markdown",
   "metadata": {},
   "source": [
    "#### **F1 Score**"
   ]
  },
  {
   "cell_type": "code",
   "execution_count": 11,
   "metadata": {},
   "outputs": [
    {
     "name": "stdout",
     "output_type": "stream",
     "text": [
      "F1 score (+) : 0.6\n",
      "F1 score (-): 0.6\n"
     ]
    }
   ],
   "source": [
    "from sklearn.metrics import f1_score\n",
    "print('F1 score (+) :', f1_score(df['y'], df['yp'], pos_label='Terinfeksi') )\n",
    "print('F1 score (-):', f1_score(df['y'], df['yp'], pos_label='Sehat') )"
   ]
  },
  {
   "cell_type": "code",
   "execution_count": 12,
   "metadata": {},
   "outputs": [
    {
     "name": "stdout",
     "output_type": "stream",
     "text": [
      "(array([0.6, 0.6]), array([0.6, 0.6]), array([0.6, 0.6]), array([10, 10], dtype=int32))\n"
     ]
    },
    {
     "data": {
      "text/html": [
       "<div>\n",
       "<style scoped>\n",
       "    .dataframe tbody tr th:only-of-type {\n",
       "        vertical-align: middle;\n",
       "    }\n",
       "\n",
       "    .dataframe tbody tr th {\n",
       "        vertical-align: top;\n",
       "    }\n",
       "\n",
       "    .dataframe thead th {\n",
       "        text-align: right;\n",
       "    }\n",
       "</style>\n",
       "<table border=\"1\" class=\"dataframe\">\n",
       "  <thead>\n",
       "    <tr style=\"text-align: right;\">\n",
       "      <th></th>\n",
       "      <th>0: Sehat</th>\n",
       "      <th>1: Terinfeksi</th>\n",
       "    </tr>\n",
       "  </thead>\n",
       "  <tbody>\n",
       "    <tr>\n",
       "      <th>Precision</th>\n",
       "      <td>0.6</td>\n",
       "      <td>0.6</td>\n",
       "    </tr>\n",
       "    <tr>\n",
       "      <th>Recall</th>\n",
       "      <td>0.6</td>\n",
       "      <td>0.6</td>\n",
       "    </tr>\n",
       "    <tr>\n",
       "      <th>Fscore</th>\n",
       "      <td>0.6</td>\n",
       "      <td>0.6</td>\n",
       "    </tr>\n",
       "    <tr>\n",
       "      <th>Support</th>\n",
       "      <td>10.0</td>\n",
       "      <td>10.0</td>\n",
       "    </tr>\n",
       "  </tbody>\n",
       "</table>\n",
       "</div>"
      ],
      "text/plain": [
       "           0: Sehat  1: Terinfeksi\n",
       "Precision       0.6            0.6\n",
       "Recall          0.6            0.6\n",
       "Fscore          0.6            0.6\n",
       "Support        10.0           10.0"
      ]
     },
     "execution_count": 12,
     "metadata": {},
     "output_type": "execute_result"
    }
   ],
   "source": [
    "from sklearn.metrics import precision_recall_fscore_support\n",
    "\n",
    "print(precision_recall_fscore_support(df['y'], df['yp']))\n",
    "\n",
    "df_prfs = pd.DataFrame((np.array(precision_recall_fscore_support(df['y'], df['yp']))).tolist(), \n",
    "                      columns=['0: Sehat', '1: Terinfeksi'], index=['Precision', 'Recall', 'Fscore', 'Support'])\n",
    "df_prfs\n",
    "\n",
    "# SUPPORT\n",
    "# menghitung berapa banyak jumlah 0 (Sehat) dan 1 (Terinfeksi) di prediksi (yp)"
   ]
  },
  {
   "cell_type": "code",
   "execution_count": 13,
   "metadata": {},
   "outputs": [],
   "source": [
    "from sklearn.metrics import classification_report"
   ]
  },
  {
   "cell_type": "code",
   "execution_count": 14,
   "metadata": {},
   "outputs": [
    {
     "name": "stdout",
     "output_type": "stream",
     "text": [
      "              precision    recall  f1-score   support\n",
      "\n",
      "       Sehat       0.60      0.60      0.60        10\n",
      "  Terinfeksi       0.60      0.60      0.60        10\n",
      "\n",
      "    accuracy                           0.60        20\n",
      "   macro avg       0.60      0.60      0.60        20\n",
      "weighted avg       0.60      0.60      0.60        20\n",
      "\n"
     ]
    }
   ],
   "source": [
    "print(classification_report(df['y'], df['yp']))"
   ]
  },
  {
   "cell_type": "code",
   "execution_count": 15,
   "metadata": {},
   "outputs": [
    {
     "name": "stdout",
     "output_type": "stream",
     "text": [
      "(0.6, 0.6, 0.6, None)\n",
      "(0.6, 0.6, 0.6, None)\n",
      "(0.6, 0.6, 0.6, None)\n"
     ]
    }
   ],
   "source": [
    "print(precision_recall_fscore_support(df['y'], df['yp'], average='micro'))\n",
    "print(precision_recall_fscore_support(df['y'], df['yp'], average='macro'))\n",
    "print(precision_recall_fscore_support(df['y'], df['yp'], average='weighted'))"
   ]
  },
  {
   "cell_type": "code",
   "execution_count": 16,
   "metadata": {},
   "outputs": [
    {
     "name": "stdout",
     "output_type": "stream",
     "text": [
      "========================================\n",
      "Menghitung precision Sehat dan Terinfeksi secara terpisah\n",
      "0.6 0.6\n",
      "========================================\n",
      "Menghitung precision secara global\n",
      "0.6 0.8999999999999999\n",
      "========================================\n",
      "Menghitung precision micro\n",
      "0.6\n"
     ]
    }
   ],
   "source": [
    "# Precision\n",
    "precision_sehat = tn / (tn + fn)\n",
    "precision_terinfeksi = tp / (tp + fp)\n",
    "print('=' * 40)\n",
    "print('Menghitung precision Sehat dan Terinfeksi secara terpisah')\n",
    "print(precision_sehat, precision_terinfeksi)\n",
    "\n",
    "print('=' * 40)\n",
    "print('Menghitung precision secara global')\n",
    "precision_macro = (precision_sehat + precision_terinfeksi) / 2\n",
    "precision_weighted = ((precision_sehat * 1) + (precision_terinfeksi * 1) / (1+1))\n",
    "print(precision_macro, precision_weighted)\n",
    "\n",
    "print('=' * 40)\n",
    "print('Menghitung precision micro')\n",
    "precision_micro = (tn + tp) / (tn + fn + tp + fp)\n",
    "print(precision_micro)"
   ]
  },
  {
   "cell_type": "markdown",
   "metadata": {},
   "source": [
    "# **Reference**:\n",
    "\n",
    "* Sarang Narkhede, \"Understanding Confusion Matrix\", https://towardsdatascience.com/understanding-confusion-matrix-a9ad42dcfd62\n",
    "* Upender Muddasani, \"Confusion Matrix Terminology\", https://medium.com/@upenderreddymuddasani/confusion-matrix-terminology-aeb443e01079\n",
    "* Kuncahyo Setyo Nugroho, \"Confusion Matrix untuk Evaluasi Model pada Supervised Learning\", https://medium.com/@ksnugroho/confusion-matrix-untuk-evaluasi-model-pada-unsupervised-machine-learning-bc4b1ae9ae3f\n",
    "* Agung Setiaji, \"Machine Learning : Acccuracy, Recall & Precision\", https://mragungsetiaji.github.io/python/machine%20learning/2018/09/21/machine-learning-accuracy-recall-dan-precision.html\n",
    "* Wikipedia, \"Sensitivity and specificity\", https://en.wikipedia.org/wiki/Sensitivity_and_specificity\n",
    "* GeeksforGeeks, \"Confusion Matrix in Machine Learning\", https://www.geeksforgeeks.org/confusion-matrix-machine-learning/"
   ]
  }
 ],
 "metadata": {
  "kernelspec": {
   "display_name": "Python 3.8.1 32-bit",
   "language": "python",
   "name": "python38132bitf9f79e71b62e4503b25567c1d3914456"
  },
  "language_info": {
   "codemirror_mode": {
    "name": "ipython",
    "version": 3
   },
   "file_extension": ".py",
   "mimetype": "text/x-python",
   "name": "python",
   "nbconvert_exporter": "python",
   "pygments_lexer": "ipython3",
   "version": "3.8.1"
  }
 },
 "nbformat": 4,
 "nbformat_minor": 4
}
